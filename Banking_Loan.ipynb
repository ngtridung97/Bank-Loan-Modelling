{
 "metadata": {
  "language_info": {
   "codemirror_mode": {
    "name": "ipython",
    "version": 3
   },
   "file_extension": ".py",
   "mimetype": "text/x-python",
   "name": "python",
   "nbconvert_exporter": "python",
   "pygments_lexer": "ipython3",
   "version": "3.7.4-final"
  },
  "orig_nbformat": 2,
  "kernelspec": {
   "name": "Python 3.7.4 64-bit ('base': conda)",
   "display_name": "Python 3.7.4 64-bit ('base': conda)",
   "metadata": {
    "interpreter": {
     "hash": "b3ba2566441a7c06988d0923437866b63cedc61552a5af99d1f4fb67d367b25f"
    }
   }
  }
 },
 "nbformat": 4,
 "nbformat_minor": 2,
 "cells": [
  {
   "cell_type": "code",
   "execution_count": null,
   "metadata": {},
   "outputs": [],
   "source": [
    "import pandas as pd\n",
    "import numpy as np\n",
    "import matplotlib.pyplot as plt\n",
    "import seaborn as sns\n",
    "sns.set(style='whitegrid')\n",
    "%matplotlib inline"
   ]
  },
  {
   "cell_type": "code",
   "execution_count": null,
   "metadata": {},
   "outputs": [],
   "source": [
    "from matplotlib import rcParams\n",
    "rcParams['patch.force_edgecolor']=True\n",
    "rcParams['patch.facecolor']='b'"
   ]
  },
  {
   "cell_type": "code",
   "execution_count": null,
   "metadata": {
    "tags": []
   },
   "outputs": [],
   "source": [
    "df = pd.read_excel('./Bank_Personal_Loan_Modelling.xlsx', 'Data')"
   ]
  },
  {
   "source": [
    "# 1.Overview"
   ],
   "cell_type": "markdown",
   "metadata": {}
  },
  {
   "cell_type": "code",
   "execution_count": null,
   "metadata": {
    "tags": []
   },
   "outputs": [],
   "source": [
    "df.info()"
   ]
  },
  {
   "cell_type": "code",
   "execution_count": null,
   "metadata": {},
   "outputs": [],
   "source": [
    "df.head()"
   ]
  },
  {
   "cell_type": "code",
   "execution_count": null,
   "metadata": {},
   "outputs": [],
   "source": [
    "df.describe()"
   ]
  },
  {
   "cell_type": "code",
   "execution_count": null,
   "metadata": {},
   "outputs": [],
   "source": [
    "df.nunique()"
   ]
  },
  {
   "cell_type": "code",
   "execution_count": null,
   "metadata": {},
   "outputs": [],
   "source": [
    "df.drop_duplicates(inplace=True)"
   ]
  },
  {
   "cell_type": "code",
   "execution_count": null,
   "metadata": {},
   "outputs": [],
   "source": [
    "df.shape"
   ]
  },
  {
   "cell_type": "code",
   "execution_count": null,
   "metadata": {},
   "outputs": [],
   "source": [
    "df.set_index('ID', inplace=True)"
   ]
  },
  {
   "cell_type": "code",
   "execution_count": null,
   "metadata": {
    "tags": []
   },
   "outputs": [],
   "source": [
    "cate_var = [col for col in df.columns if df[col].nunique()<=5]\n",
    "cate_var.remove('Personal Loan')\n",
    "cont_var = [col for col in df.columns if df[col].nunique()>5]\n",
    "print('Categorical variables:', cate_var)\n",
    "print('Continuous variables:', cont_var)"
   ]
  },
  {
   "source": [
    "# 2.Plotting"
   ],
   "cell_type": "markdown",
   "metadata": {}
  },
  {
   "source": [
    "## 2.1.Continuous and Categorical variables"
   ],
   "cell_type": "markdown",
   "metadata": {}
  },
  {
   "cell_type": "code",
   "execution_count": null,
   "metadata": {},
   "outputs": [],
   "source": [
    "fig_1 = plt.figure(figsize=(25,9))\n",
    "for i, col in enumerate(cont_var):\n",
    "    ax = fig_1.add_subplot(2,3,i+1)\n",
    "    sns.distplot(df[col], color='y')"
   ]
  },
  {
   "cell_type": "code",
   "execution_count": null,
   "metadata": {},
   "outputs": [],
   "source": [
    "fig_2 = plt.figure(figsize=(25,9))\n",
    "for i, col in enumerate(cate_var):\n",
    "    ax = fig_2.add_subplot(2,3,i+1)\n",
    "    sns.countplot(df[col], palette='RdBu_r')"
   ]
  },
  {
   "source": [
    "## 2.2.Personal Loan"
   ],
   "cell_type": "markdown",
   "metadata": {}
  },
  {
   "cell_type": "code",
   "execution_count": null,
   "metadata": {},
   "outputs": [],
   "source": [
    "fig_3 = plt.figure(figsize=(25,9))\n",
    "for i, col in enumerate(cont_var):\n",
    "    ax = fig_3.add_subplot(2,3,i+1)\n",
    "    sns.boxplot(x=df['Personal Loan'], y=df[col], palette='RdBu_r')"
   ]
  },
  {
   "cell_type": "code",
   "execution_count": null,
   "metadata": {},
   "outputs": [],
   "source": [
    "fig_4 = plt.figure(figsize=(25,9))\n",
    "for i, col in enumerate(cont_var):\n",
    "    ax = fig_4.add_subplot(2,3,i+1)\n",
    "    ax1 = sns.distplot(df[col][df['Personal Loan']==0], hist=False, label='No Personal Loan', color='r')\n",
    "    sns.distplot(df[col][df['Personal Loan']==1], hist=False, ax=ax1, label='Is Personal Loan', color='b')"
   ]
  },
  {
   "cell_type": "code",
   "execution_count": null,
   "metadata": {},
   "outputs": [],
   "source": [
    "fig_5 = plt.figure(figsize=(25,9))\n",
    "for i, col in enumerate(cate_var):\n",
    "    ax = fig_5.add_subplot(2,3,i+1)\n",
    "    sns.barplot(x=col, y='Personal Loan', data=df, ci=None, palette='RdBu_r')"
   ]
  },
  {
   "cell_type": "code",
   "execution_count": null,
   "metadata": {},
   "outputs": [],
   "source": [
    "fig_6 = plt.figure(figsize=(25,9))\n",
    "for i, col in enumerate(cate_var):\n",
    "    ax = fig_6.add_subplot(2,3,i+1)\n",
    "    sns.countplot(x=col, hue='Personal Loan', data=df, palette='RdBu_r')"
   ]
  },
  {
   "source": [
    "## 2.3.Income"
   ],
   "cell_type": "markdown",
   "metadata": {}
  },
  {
   "cell_type": "code",
   "execution_count": null,
   "metadata": {},
   "outputs": [],
   "source": [
    "cont_var_temp = cont_var.copy()\n",
    "cont_var_temp.remove('Income')"
   ]
  },
  {
   "cell_type": "code",
   "execution_count": null,
   "metadata": {},
   "outputs": [],
   "source": [
    "fig_7 = plt.figure(figsize=(25,9))\n",
    "for i, col in enumerate(cont_var_temp):\n",
    "    ax = fig_7.add_subplot(2,3,i+1)\n",
    "    sns.scatterplot('Income', y=col, hue='Personal Loan', data=df, palette='RdBu_r')"
   ]
  },
  {
   "cell_type": "code",
   "execution_count": null,
   "metadata": {},
   "outputs": [],
   "source": [
    "fig_8 = plt.figure(figsize=(25,9))\n",
    "for i, col in enumerate(cate_var):\n",
    "    ax = fig_8.add_subplot(2,3,i+1)\n",
    "    sns.scatterplot('Income', y=col, hue='Personal Loan', data=df, palette='RdBu_r')"
   ]
  },
  {
   "source": [
    "## 2.4.CCAvg"
   ],
   "cell_type": "markdown",
   "metadata": {}
  },
  {
   "cell_type": "code",
   "execution_count": null,
   "metadata": {},
   "outputs": [],
   "source": [
    "cont_var_temp.remove('CCAvg')"
   ]
  },
  {
   "cell_type": "code",
   "execution_count": null,
   "metadata": {},
   "outputs": [],
   "source": [
    "fig_9 = plt.figure(figsize=(25,9))\n",
    "for i, col in enumerate(cont_var_temp):\n",
    "    ax = fig_9.add_subplot(2,2,i+1)\n",
    "    sns.scatterplot('CCAvg', col, hue='Personal Loan', data=df, palette='RdBu_r')"
   ]
  },
  {
   "cell_type": "code",
   "execution_count": null,
   "metadata": {},
   "outputs": [],
   "source": [
    "fig_10 = plt.figure(figsize=(25,9))\n",
    "for i, col in enumerate(cate_var):\n",
    "    ax = fig_10.add_subplot(2,3,i+1)\n",
    "    sns.scatterplot('CCAvg', col, hue='Personal Loan', data=df, palette='RdBu_r')"
   ]
  }
 ]
}
{
 "metadata": {
  "language_info": {
   "codemirror_mode": {
    "name": "ipython",
    "version": 3
   },
   "file_extension": ".py",
   "mimetype": "text/x-python",
   "name": "python",
   "nbconvert_exporter": "python",
   "pygments_lexer": "ipython3",
   "version": "3.7.4-final"
  },
  "orig_nbformat": 2,
  "kernelspec": {
   "name": "Python 3.7.4 64-bit ('base': conda)",
   "display_name": "Python 3.7.4 64-bit ('base': conda)",
   "metadata": {
    "interpreter": {
     "hash": "b3ba2566441a7c06988d0923437866b63cedc61552a5af99d1f4fb67d367b25f"
    }
   }
  }
 },
 "nbformat": 4,
 "nbformat_minor": 2,
 "cells": [
  {
   "cell_type": "code",
   "execution_count": null,
   "metadata": {},
   "outputs": [],
   "source": [
    "import pandas as pd\n",
    "import numpy as np\n",
    "import matplotlib.pyplot as plt\n",
    "import seaborn as sns\n",
    "sns.set(style='whitegrid')\n",
    "%matplotlib inline"
   ]
  },
  {
   "cell_type": "code",
   "execution_count": null,
   "metadata": {},
   "outputs": [],
   "source": [
    "from matplotlib import rcParams\n",
    "rcParams['patch.force_edgecolor']=True\n",
    "rcParams['patch.facecolor']='b'"
   ]
  },
  {
   "cell_type": "code",
   "execution_count": null,
   "metadata": {
    "tags": []
   },
   "outputs": [],
   "source": [
    "df = pd.read_excel('./Bank_Personal_Loan_Modelling.xlsx', 'Data')"
   ]
  },
  {
   "source": [
    "# 1. Overview"
   ],
   "cell_type": "markdown",
   "metadata": {}
  },
  {
   "cell_type": "code",
   "execution_count": null,
   "metadata": {
    "tags": []
   },
   "outputs": [],
   "source": [
    "df.info()"
   ]
  },
  {
   "cell_type": "code",
   "execution_count": null,
   "metadata": {},
   "outputs": [],
   "source": [
    "df.head()"
   ]
  },
  {
   "cell_type": "code",
   "execution_count": null,
   "metadata": {},
   "outputs": [],
   "source": [
    "df.describe()"
   ]
  },
  {
   "cell_type": "code",
   "execution_count": null,
   "metadata": {},
   "outputs": [],
   "source": [
    "df.nunique()"
   ]
  },
  {
   "cell_type": "code",
   "execution_count": null,
   "metadata": {},
   "outputs": [],
   "source": [
    "df.drop_duplicates(inplace=True)"
   ]
  },
  {
   "cell_type": "code",
   "execution_count": null,
   "metadata": {},
   "outputs": [],
   "source": [
    "df.shape"
   ]
  },
  {
   "cell_type": "code",
   "execution_count": null,
   "metadata": {},
   "outputs": [],
   "source": [
    "df.set_index('ID', inplace=True)"
   ]
  },
  {
   "cell_type": "code",
   "execution_count": null,
   "metadata": {
    "tags": []
   },
   "outputs": [],
   "source": [
    "cate_var = [col for col in df.columns if df[col].nunique()<=5]\n",
    "cate_var.remove('Personal Loan')\n",
    "cont_var = [col for col in df.columns if df[col].nunique()>5]\n",
    "print('Categorical variables:', cate_var)\n",
    "print('Continuous variables:', cont_var)"
   ]
  },
  {
   "source": [
    "# 2. Plotting"
   ],
   "cell_type": "markdown",
   "metadata": {}
  },
  {
   "source": [
    "## 2.1. Continuous and Categorical variables"
   ],
   "cell_type": "markdown",
   "metadata": {}
  },
  {
   "cell_type": "code",
   "execution_count": null,
   "metadata": {},
   "outputs": [],
   "source": [
    "fig_1 = plt.figure(figsize=(25,9))\n",
    "for i, col in enumerate(cont_var):\n",
    "    ax = fig_1.add_subplot(2,3,i+1)\n",
    "    sns.distplot(df[col], color='y')"
   ]
  },
  {
   "cell_type": "code",
   "execution_count": null,
   "metadata": {},
   "outputs": [],
   "source": [
    "fig_2 = plt.figure(figsize=(25,9))\n",
    "for i, col in enumerate(cate_var):\n",
    "    ax = fig_2.add_subplot(2,3,i+1)\n",
    "    sns.countplot(df[col], palette='RdBu_r')"
   ]
  },
  {
   "source": [
    "## 2.2. Personal Loan"
   ],
   "cell_type": "markdown",
   "metadata": {}
  },
  {
   "cell_type": "code",
   "execution_count": null,
   "metadata": {},
   "outputs": [],
   "source": [
    "fig_3 = plt.figure(figsize=(25,9))\n",
    "for i, col in enumerate(cont_var):\n",
    "    ax = fig_3.add_subplot(2,3,i+1)\n",
    "    sns.boxplot(x=df['Personal Loan'], y=df[col], palette='RdBu_r')"
   ]
  },
  {
   "cell_type": "code",
   "execution_count": null,
   "metadata": {},
   "outputs": [],
   "source": [
    "fig_4 = plt.figure(figsize=(25,9))\n",
    "for i, col in enumerate(cont_var):\n",
    "    ax = fig_4.add_subplot(2,3,i+1)\n",
    "    ax1 = sns.distplot(df[col][df['Personal Loan']==0], hist=False, label='No Personal Loan', color='r')\n",
    "    sns.distplot(df[col][df['Personal Loan']==1], hist=False, ax=ax1, label='Is Personal Loan', color='b')"
   ]
  },
  {
   "cell_type": "code",
   "execution_count": null,
   "metadata": {},
   "outputs": [],
   "source": [
    "fig_5 = plt.figure(figsize=(25,9))\n",
    "for i, col in enumerate(cate_var):\n",
    "    ax = fig_5.add_subplot(2,3,i+1)\n",
    "    sns.barplot(x=col, y='Personal Loan', data=df, ci=None, palette='RdBu_r')"
   ]
  },
  {
   "cell_type": "code",
   "execution_count": null,
   "metadata": {},
   "outputs": [],
   "source": [
    "fig_6 = plt.figure(figsize=(25,9))\n",
    "for i, col in enumerate(cate_var):\n",
    "    ax = fig_6.add_subplot(2,3,i+1)\n",
    "    sns.countplot(x=col, hue='Personal Loan', data=df, palette='RdBu_r')"
   ]
  },
  {
   "source": [
    "## 2.3. Income"
   ],
   "cell_type": "markdown",
   "metadata": {}
  },
  {
   "cell_type": "code",
   "execution_count": null,
   "metadata": {},
   "outputs": [],
   "source": [
    "cont_var_temp = cont_var.copy()\n",
    "cont_var_temp.remove('Income')"
   ]
  },
  {
   "cell_type": "code",
   "execution_count": null,
   "metadata": {},
   "outputs": [],
   "source": [
    "fig_7 = plt.figure(figsize=(25,9))\n",
    "for i, col in enumerate(cont_var_temp):\n",
    "    ax = fig_7.add_subplot(2,3,i+1)\n",
    "    sns.scatterplot('Income', y=col, hue='Personal Loan', data=df, palette='RdBu_r')"
   ]
  },
  {
   "cell_type": "code",
   "execution_count": null,
   "metadata": {},
   "outputs": [],
   "source": [
    "fig_8 = plt.figure(figsize=(25,9))\n",
    "for i, col in enumerate(cate_var):\n",
    "    ax = fig_8.add_subplot(2,3,i+1)\n",
    "    sns.scatterplot('Income', y=col, hue='Personal Loan', data=df, palette='RdBu_r')"
   ]
  },
  {
   "source": [
    "## 2.4. CCAvg"
   ],
   "cell_type": "markdown",
   "metadata": {}
  },
  {
   "cell_type": "code",
   "execution_count": null,
   "metadata": {},
   "outputs": [],
   "source": [
    "cont_var_temp.remove('CCAvg')"
   ]
  },
  {
   "cell_type": "code",
   "execution_count": null,
   "metadata": {},
   "outputs": [],
   "source": [
    "fig_9 = plt.figure(figsize=(25,9))\n",
    "for i, col in enumerate(cont_var_temp):\n",
    "    ax = fig_9.add_subplot(2,2,i+1)\n",
    "    sns.scatterplot('CCAvg', col, hue='Personal Loan', data=df, palette='RdBu_r')"
   ]
  },
  {
   "cell_type": "code",
   "execution_count": null,
   "metadata": {},
   "outputs": [],
   "source": [
    "fig_10 = plt.figure(figsize=(25,9))\n",
    "for i, col in enumerate(cate_var):\n",
    "    ax = fig_10.add_subplot(2,3,i+1)\n",
    "    sns.scatterplot('CCAvg', col, hue='Personal Loan', data=df, palette='RdBu_r')"
   ]
  },
  {
   "source": [
    "# 3. Correlation"
   ],
   "cell_type": "markdown",
   "metadata": {}
  },
  {
   "cell_type": "code",
   "execution_count": null,
   "metadata": {},
   "outputs": [],
   "source": [
    "corr = df.corr()\n",
    "mask = np.triu(np.ones_like(corr, dtype=bool))\n",
    "with sns.axes_style(style='whitegrid'):\n",
    "    fig_11, ax = plt.subplots(figsize=(25,9))\n",
    "    plt.title('Number Of Attributes Heatmap')\n",
    "    sns.heatmap(corr, mask=mask, annot=True, square=True, linewidths=.5, cmap=\"RdBu_r\")"
   ]
  },
  {
   "cell_type": "code",
   "execution_count": null,
   "metadata": {},
   "outputs": [],
   "source": [
    "df[['Age', 'Experience', 'Personal Loan']].corr()"
   ]
  },
  {
   "cell_type": "code",
   "execution_count": null,
   "metadata": {},
   "outputs": [],
   "source": [
    "df['General Account'] = df['CD Account'] + df['Securities Account']\n",
    "df[['General Account', 'CD Account', 'Securities Account', 'Personal Loan']].corr()"
   ]
  },
  {
   "cell_type": "code",
   "execution_count": null,
   "metadata": {},
   "outputs": [],
   "source": [
    "df['General Service'] = df['Online'] + df['CreditCard']\n",
    "df[['General Service', 'Online', 'CreditCard', 'Personal Loan']].corr()"
   ]
  },
  {
   "cell_type": "code",
   "execution_count": null,
   "metadata": {},
   "outputs": [],
   "source": [
    "from sklearn.preprocessing import StandardScaler"
   ]
  },
  {
   "cell_type": "code",
   "execution_count": null,
   "metadata": {},
   "outputs": [],
   "source": [
    "df.drop(['ZIP Code', 'Experience', 'General Account', 'Online', 'CreditCard'], axis=1, inplace=True)\n",
    "scaled_df = pd.DataFrame(StandardScaler().fit_transform(df.drop('Personal Loan', axis=1)))"
   ]
  },
  {
   "cell_type": "code",
   "execution_count": null,
   "metadata": {},
   "outputs": [],
   "source": [
    "scaled_df.columns = df.drop('Personal Loan', axis=1).columns\n",
    "scaled_df.head(10)"
   ]
  },
  {
   "source": [
    "# 4. Modelling"
   ],
   "cell_type": "markdown",
   "metadata": {}
  },
  {
   "cell_type": "code",
   "execution_count": null,
   "metadata": {},
   "outputs": [],
   "source": [
    "from sklearn.linear_model import LogisticRegression\n",
    "from sklearn.tree import DecisionTreeClassifier\n",
    "from sklearn.ensemble import RandomForestClassifier\n",
    "from sklearn.svm import SVC\n",
    "from sklearn.neighbors import KNeighborsClassifier\n",
    "from sklearn.metrics import accuracy_score,confusion_matrix\n",
    "from sklearn.metrics import classification_report\n",
    "from sklearn.model_selection import train_test_split\n",
    "from sklearn.metrics import f1_score"
   ]
  },
  {
   "cell_type": "code",
   "execution_count": null,
   "metadata": {},
   "outputs": [],
   "source": [
    "x = scaled_df\n",
    "y = df['Personal Loan']"
   ]
  },
  {
   "cell_type": "code",
   "execution_count": null,
   "metadata": {},
   "outputs": [],
   "source": [
    "x_train, x_test, y_train, y_test = train_test_split(x, y, test_size=0.33, random_state=100)"
   ]
  },
  {
   "cell_type": "code",
   "execution_count": null,
   "metadata": {},
   "outputs": [],
   "source": [
    "model_list = [['Logistic Regression', LogisticRegression()],\n",
    "    ['Decision Tree', DecisionTreeClassifier()],\n",
    "    ['Random Forest', RandomForestClassifier()],\n",
    "    ['SVC', SVC()],\n",
    "    ['K-Nearest Neighbors', KNeighborsClassifier()]]\n",
    "model_f1_score = []\n",
    "model_accuracy_score = []\n",
    "model_combine = []"
   ]
  },
  {
   "cell_type": "code",
   "execution_count": null,
   "metadata": {},
   "outputs": [],
   "source": [
    "for i in range(len(model_list)):\n",
    "    model_list[i][1].fit(x_train, y_train)\n",
    "    yhat = model_list[i][1].predict(x_test)\n",
    "    f1 = f1_score(y_test, yhat)\n",
    "    accuracy = accuracy_score(y_test, yhat)\n",
    "    model_f1_score.append(f1)\n",
    "    model_accuracy_score.append(accuracy)\n",
    "\n",
    "model_combine = np.reshape(model_f1_score + model_accuracy_score, (-1, 5))"
   ]
  },
  {
   "cell_type": "code",
   "execution_count": null,
   "metadata": {},
   "outputs": [],
   "source": [
    "fig_12, ax = plt.subplots(1, 2, figsize=(25, 9))\n",
    "fig_12.suptitle('Model Visualization')\n",
    "\n",
    "grid_size = fig_12.axes[0].get_subplotspec().get_topmost_subplotspec().get_gridspec().get_geometry()\n",
    "\n",
    "for i in range(grid_size[0]*grid_size[1]):\n",
    "    sns.barplot(ax=ax[i], x=[m[0] for m in model_list], y=model_combine[i], palette='RdBu_r')\n",
    "    if i == 0:\n",
    "        ax[i].set_title('F1 Score')\n",
    "        ax[i].set_ylabel('F1')\n",
    "    else:\n",
    "        ax[i].set_title('Accuracy Score')\n",
    "        ax[i].set_ylabel('Accuracy')\n",
    "\n",
    "    for p in ax[i].patches:\n",
    "        width, height = p.get_width(), p.get_height()\n",
    "        x, y = p.get_xy() \n",
    "        ax[i].annotate('{:.0%}'.format(height), (x+width*.5, y+height*1.025), ha='center', va='top')"
   ]
  }
 ]
}